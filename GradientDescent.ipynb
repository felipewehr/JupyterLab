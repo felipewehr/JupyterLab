{
 "cells": [
  {
   "cell_type": "markdown",
   "metadata": {},
   "source": [
    "<h1> REGRESSÃO LINEAR SIMPLES </h1>"
   ]
  },
  {
   "cell_type": "code",
   "execution_count": 64,
   "metadata": {},
   "outputs": [],
   "source": [
    "import numpy as np\n",
    "import matplotlib.pyplot as plt\n",
    "import math\n",
    "\n",
    "%matplotlib inline"
   ]
  },
  {
   "cell_type": "markdown",
   "metadata": {},
   "source": [
    "<h1> DADOS </h1>"
   ]
  },
  {
   "cell_type": "code",
   "execution_count": 65,
   "metadata": {},
   "outputs": [],
   "source": [
    "x = [0.5,2.2,2.0]\n",
    "y = [2.0,2.5,1.4]"
   ]
  },
  {
   "cell_type": "markdown",
   "metadata": {},
   "source": [
    "<h2> TAXA DE APRENDIZADO (velocidade de descida) </h2>"
   ]
  },
  {
   "cell_type": "code",
   "execution_count": 66,
   "metadata": {},
   "outputs": [],
   "source": [
    "alpha = 0.01"
   ]
  },
  {
   "cell_type": "markdown",
   "metadata": {},
   "source": [
    "<h2> VALORES INICIAIS PARA W0 E W1 </h2>"
   ]
  },
  {
   "cell_type": "code",
   "execution_count": 67,
   "metadata": {},
   "outputs": [],
   "source": [
    "w0 = 0.1\n",
    "w1 = 0.1"
   ]
  },
  {
   "cell_type": "markdown",
   "metadata": {},
   "source": [
    "<h2> DEFININDO A HIPÓTESE </h2>"
   ]
  },
  {
   "cell_type": "code",
   "execution_count": 68,
   "metadata": {},
   "outputs": [],
   "source": [
    "def y_hat(x,w0,w1):\n",
    "    return w0 + w1*x"
   ]
  },
  {
   "cell_type": "markdown",
   "metadata": {},
   "source": [
    "<h5> realizando uma predição ainda com custo alto </h5>"
   ]
  },
  {
   "cell_type": "code",
   "execution_count": 69,
   "metadata": {},
   "outputs": [
    {
     "data": {
      "text/plain": [
       "0.25"
      ]
     },
     "execution_count": 69,
     "metadata": {},
     "output_type": "execute_result"
    }
   ],
   "source": [
    "y_hat(1.5,w0,w1)"
   ]
  },
  {
   "cell_type": "markdown",
   "metadata": {},
   "source": [
    "<h2> FUNCÃO PARA PLOTAR PONTOS E REGRESSÃO </h2>"
   ]
  },
  {
   "cell_type": "code",
   "execution_count": 70,
   "metadata": {},
   "outputs": [],
   "source": [
    "def plot_line(X, y, w0, w1):\n",
    "    x_values = [i for i in range(int(min(X))-1, int(max(X))+2)]\n",
    "    y_values = [y_hat(x,w0,w1) for x in x_values]\n",
    "    plt.plot(x_values,y_values,'r')\n",
    "    plt.plot(X,y,'bo')"
   ]
  },
  {
   "cell_type": "code",
   "execution_count": 71,
   "metadata": {},
   "outputs": [
    {
     "data": {
      "image/png": "[encoded data removed]",
      "text/plain": [
       "<matplotlib.figure.Figure at 0x7f5276f844e0>"
      ]
     },
     "metadata": {},
     "output_type": "display_data"
    }
   ],
   "source": [
    "plot_line(x,y,w0,w1)"
   ]
  },
  {
   "cell_type": "markdown",
   "metadata": {},
   "source": [
    "<h2> FUNÇÃO MSE (Média do erro ao quadrado) </h2>"
   ]
  },
  {
   "cell_type": "code",
   "execution_count": 72,
   "metadata": {},
   "outputs": [],
   "source": [
    "def MSE(X,y,w0,w1):\n",
    "    custo = 0\n",
    "    m = float(len(X))\n",
    "    for i in range(0, len(X)):\n",
    "        custo += (y_hat(X[i], w0, w1)-y[i])**2\n",
    "    \n",
    "    return custo/m"
   ]
  },
  {
   "cell_type": "code",
   "execution_count": 73,
   "metadata": {},
   "outputs": [
    {
     "data": {
      "text/plain": [
       "3.1282999999999994"
      ]
     },
     "execution_count": 73,
     "metadata": {},
     "output_type": "execute_result"
    }
   ],
   "source": [
    "MSE(x,y,w0,w1)"
   ]
  },
  {
   "cell_type": "markdown",
   "metadata": {},
   "source": [
    "<h1 forecolor='blue'> ALGORITMO DO GRADIENTE DESCENDENTE</h1>"
   ]
  },
  {
   "cell_type": "code",
   "execution_count": 74,
   "metadata": {},
   "outputs": [],
   "source": [
    "def gradient_descent_step(w0, w1, X, y, alpha):\n",
    "    \n",
    "    erro_w0 = 0\n",
    "    erro_w1 = 0\n",
    "    m = float(len(X))\n",
    "    \n",
    "    for i in range(0,len(X)):\n",
    "        erro_w0 += y_hat(X[i], w0, w1) - y[i]\n",
    "        erro_w1 += (y_hat(X[i], w0, w1) - y[i]) * X[i]\n",
    "        \n",
    "    new_w0 = w0 - alpha * (1/m) * erro_w0\n",
    "    new_w1 = w1 - alpha * (1/m) * erro_w1\n",
    "\n",
    "    return new_w0, new_w1"
   ]
  },
  {
   "cell_type": "code",
   "execution_count": 75,
   "metadata": {},
   "outputs": [],
   "source": [
    "w0,w1 = gradient_descent_step(w0,w1,x,y,alpha)"
   ]
  },
  {
   "cell_type": "code",
   "execution_count": 76,
   "metadata": {},
   "outputs": [
    {
     "name": "stdout",
     "output_type": "stream",
     "text": [
      "w0=0.11710000000000001, w1=0.12640333333333334\n"
     ]
    }
   ],
   "source": [
    "print(\"w0={}, w1={}\".format(w0,w1))"
   ]
  },
  {
   "cell_type": "markdown",
   "metadata": {},
   "source": [
    "<h3> GRADIENTE DESCENDENTE LOOP </h3>"
   ]
  },
  {
   "cell_type": "code",
   "execution_count": 77,
   "metadata": {},
   "outputs": [],
   "source": [
    "epoch = 800"
   ]
  },
  {
   "cell_type": "code",
   "execution_count": 78,
   "metadata": {},
   "outputs": [],
   "source": [
    "def gradient_descent(w0, w1, X, y, alpha, epoch):\n",
    "    custo = np.zeros(epoch)\n",
    "    for i in range(epoch):\n",
    "        w0 , w1 = gradient_descent_step(w0, w1, X, y , alpha)\n",
    "        custo[i] = MSE(X,y,w0,w1)\n",
    "        \n",
    "    return w0, w1, custo\n",
    "    "
   ]
  },
  {
   "cell_type": "code",
   "execution_count": 79,
   "metadata": {},
   "outputs": [],
   "source": [
    "w0,w1,custo = gradient_descent(w0,w1,x,y,alpha,epoch)"
   ]
  },
  {
   "cell_type": "code",
   "execution_count": 80,
   "metadata": {},
   "outputs": [
    {
     "data": {
      "text/plain": [
       "array([2.75481098, 2.58898416, 2.43569679, 2.29399451, 2.16299563,\n",
       "       2.04188557, 1.92991176, 1.82637893, 1.73064474, 1.64211573,\n",
       "       1.56024364, 1.48452194, 1.41448265, 1.34969343, 1.28975485,\n",
       "       1.23429788, 1.18298158, 1.13549098, 1.09153508, 1.05084502,\n",
       "       1.01317242, 0.9782878 , 0.94597917, 0.91605065, 0.88832129,\n",
       "       0.8626239 , 0.83880403, 0.81671898, 0.79623691, 0.77723603,\n",
       "       0.75960381, 0.74323628, 0.7280374 , 0.71391842, 0.70079738,\n",
       "       0.68859852, 0.67725187, 0.66669278, 0.65686152, 0.6477029 ,\n",
       "       0.63916595, 0.63120356, 0.62377221, 0.61683171, 0.6103449 ,\n",
       "       0.60427747, 0.59859771, 0.59327633, 0.58828627, 0.58360252,\n",
       "       0.57920198, 0.57506331, 0.57116679, 0.5674942 , 0.56402872,\n",
       "       0.56075478, 0.55765802, 0.55472517, 0.55194396, 0.54930306,\n",
       "       0.54679199, 0.5444011 , 0.54212143, 0.53994473, 0.53786337,\n",
       "       0.53587031, 0.53395902, 0.53212349, 0.53035816, 0.52865789,\n",
       "       0.52701793, 0.5254339 , 0.52390175, 0.52241772, 0.52097835,\n",
       "       0.51958046, 0.51822108, 0.51689749, 0.51560715, 0.51434774,\n",
       "       0.5131171 , 0.51191325, 0.51073433, 0.50957866, 0.50844465,\n",
       "       0.50733086, 0.50623594, 0.50515865, 0.50409784, 0.50305245,\n",
       "       0.50202151, 0.5010041 , 0.49999939, 0.4990066 , 0.49802501,\n",
       "       0.49705398, 0.49609287, 0.49514113, 0.49419823, 0.49326368,\n",
       "       0.49233704, 0.4914179 , 0.49050587, 0.48960059, 0.48870174,\n",
       "       0.48780901, 0.48692213, 0.48604082, 0.48516485, 0.484294  ,\n",
       "       0.48342806, 0.48256683, 0.48171014, 0.48085783, 0.48000974,\n",
       "       0.47916573, 0.47832567, 0.47748943, 0.47665691, 0.475828  ,\n",
       "       0.47500259, 0.47418061, 0.47336197, 0.47254658, 0.47173437,\n",
       "       0.47092529, 0.47011925, 0.46931621, 0.46851611, 0.4677189 ,\n",
       "       0.46692453, 0.46613295, 0.46534413, 0.46455802, 0.46377459,\n",
       "       0.4629938 , 0.46221562, 0.46144003, 0.46066698, 0.45989646,\n",
       "       0.45912844, 0.4583629 , 0.45759981, 0.45683915, 0.4560809 ,\n",
       "       0.45532504, 0.45457156, 0.45382044, 0.45307166, 0.4523252 ,\n",
       "       0.45158105, 0.4508392 , 0.45009963, 0.44936233, 0.44862728,\n",
       "       0.44789448, 0.44716391, 0.44643557, 0.44570943, 0.44498549,\n",
       "       0.44426375, 0.44354418, 0.44282678, 0.44211154, 0.44139846,\n",
       "       0.44068752, 0.43997871, 0.43927203, 0.43856746, 0.43786501,\n",
       "       0.43716466, 0.4364664 , 0.43577023, 0.43507613, 0.43438411,\n",
       "       0.43369415, 0.43300625, 0.4323204 , 0.43163659, 0.43095482,\n",
       "       0.43027508, 0.42959736, 0.42892165, 0.42824796, 0.42757627,\n",
       "       0.42690657, 0.42623887, 0.42557315, 0.42490941, 0.42424763,\n",
       "       0.42358783, 0.42292998, 0.42227408, 0.42162014, 0.42096813,\n",
       "       0.42031806, 0.41966991, 0.41902369, 0.41837939, 0.417737  ,\n",
       "       0.41709651, 0.41645792, 0.41582123, 0.41518643, 0.4145535 ,\n",
       "       0.41392246, 0.41329328, 0.41266598, 0.41204053, 0.41141693,\n",
       "       0.41079519, 0.41017528, 0.40955722, 0.40894098, 0.40832658,\n",
       "       0.40771399, 0.40710322, 0.40649426, 0.40588711, 0.40528175,\n",
       "       0.40467819, 0.40407642, 0.40347644, 0.40287823, 0.40228179,\n",
       "       0.40168712, 0.40109421, 0.40050306, 0.39991367, 0.39932601,\n",
       "       0.39874011, 0.39815593, 0.39757349, 0.39699277, 0.39641378,\n",
       "       0.3958365 , 0.39526093, 0.39468707, 0.39411491, 0.39354444,\n",
       "       0.39297567, 0.39240857, 0.39184317, 0.39127943, 0.39071737,\n",
       "       0.39015697, 0.38959823, 0.38904115, 0.38848572, 0.38793193,\n",
       "       0.38737979, 0.38682928, 0.3862804 , 0.38573315, 0.38518753,\n",
       "       0.38464351, 0.38410112, 0.38356032, 0.38302113, 0.38248354,\n",
       "       0.38194754, 0.38141313, 0.38088031, 0.38034906, 0.37981938,\n",
       "       0.37929128, 0.37876474, 0.37823976, 0.37771634, 0.37719447,\n",
       "       0.37667414, 0.37615536, 0.37563811, 0.3751224 , 0.37460821,\n",
       "       0.37409555, 0.37358441, 0.37307478, 0.37256666, 0.37206005,\n",
       "       0.37155494, 0.37105132, 0.3705492 , 0.37004857, 0.36954941,\n",
       "       0.36905174, 0.36855555, 0.36806082, 0.36756756, 0.36707576,\n",
       "       0.36658542, 0.36609653, 0.36560909, 0.3651231 , 0.36463854,\n",
       "       0.36415542, 0.36367373, 0.36319347, 0.36271464, 0.36223722,\n",
       "       0.36176122, 0.36128662, 0.36081344, 0.36034165, 0.35987127,\n",
       "       0.35940227, 0.35893467, 0.35846845, 0.35800362, 0.35754016,\n",
       "       0.35707807, 0.35661736, 0.35615801, 0.35570002, 0.35524339,\n",
       "       0.35478811, 0.35433418, 0.35388159, 0.35343035, 0.35298044,\n",
       "       0.35253187, 0.35208463, 0.35163871, 0.35119411, 0.35075083,\n",
       "       0.35030887, 0.34986821, 0.34942886, 0.34899081, 0.34855406,\n",
       "       0.3481186 , 0.34768444, 0.34725156, 0.34681996, 0.34638964,\n",
       "       0.3459606 , 0.34553283, 0.34510632, 0.34468108, 0.3442571 ,\n",
       "       0.34383438, 0.34341291, 0.34299269, 0.34257371, 0.34215597,\n",
       "       0.34173948, 0.34132421, 0.34091018, 0.34049737, 0.34008579,\n",
       "       0.33967543, 0.33926628, 0.33885835, 0.33845162, 0.3380461 ,\n",
       "       0.33764178, 0.33723866, 0.33683674, 0.336436  , 0.33603645,\n",
       "       0.33563809, 0.33524091, 0.3348449 , 0.33445007, 0.3340564 ,\n",
       "       0.33366391, 0.33327257, 0.3328824 , 0.33249338, 0.33210552,\n",
       "       0.3317188 , 0.33133323, 0.33094881, 0.33056552, 0.33018337,\n",
       "       0.32980235, 0.32942246, 0.32904369, 0.32866605, 0.32828953,\n",
       "       0.32791412, 0.32753983, 0.32716664, 0.32679456, 0.32642358,\n",
       "       0.3260537 , 0.32568492, 0.32531723, 0.32495063, 0.32458512,\n",
       "       0.32422069, 0.32385734, 0.32349506, 0.32313386, 0.32277373,\n",
       "       0.32241467, 0.32205667, 0.32169973, 0.32134385, 0.32098903,\n",
       "       0.32063525, 0.32028253, 0.31993085, 0.31958021, 0.31923061,\n",
       "       0.31888205, 0.31853452, 0.31818801, 0.31784254, 0.31749809,\n",
       "       0.31715466, 0.31681225, 0.31647085, 0.31613047, 0.31579109,\n",
       "       0.31545272, 0.31511535, 0.31477898, 0.31444361, 0.31410923,\n",
       "       0.31377584, 0.31344344, 0.31311203, 0.31278159, 0.31245214,\n",
       "       0.31212366, 0.31179616, 0.31146963, 0.31114406, 0.31081946,\n",
       "       0.31049582, 0.31017314, 0.30985142, 0.30953065, 0.30921083,\n",
       "       0.30889195, 0.30857403, 0.30825704, 0.307941  , 0.30762589,\n",
       "       0.30731171, 0.30699847, 0.30668615, 0.30637476, 0.30606429,\n",
       "       0.30575474, 0.30544611, 0.30513839, 0.30483159, 0.30452569,\n",
       "       0.30422071, 0.30391662, 0.30361344, 0.30331115, 0.30300976,\n",
       "       0.30270926, 0.30240966, 0.30211094, 0.3018131 , 0.30151615,\n",
       "       0.30122008, 0.30092489, 0.30063057, 0.30033712, 0.30004455,\n",
       "       0.29975284, 0.29946199, 0.29917201, 0.29888288, 0.29859461,\n",
       "       0.2983072 , 0.29802064, 0.29773493, 0.29745006, 0.29716604,\n",
       "       0.29688286, 0.29660052, 0.29631901, 0.29603834, 0.2957585 ,\n",
       "       0.29547949, 0.29520131, 0.29492395, 0.29464741, 0.2943717 ,\n",
       "       0.2940968 , 0.29382271, 0.29354944, 0.29327698, 0.29300532,\n",
       "       0.29273447, 0.29246442, 0.29219517, 0.29192672, 0.29165907,\n",
       "       0.2913922 , 0.29112613, 0.29086085, 0.29059635, 0.29033264,\n",
       "       0.29006971, 0.28980756, 0.28954618, 0.28928558, 0.28902575,\n",
       "       0.28876669, 0.2885084 , 0.28825088, 0.28799412, 0.28773811,\n",
       "       0.28748287, 0.28722838, 0.28697465, 0.28672167, 0.28646944,\n",
       "       0.28621796, 0.28596722, 0.28571722, 0.28546797, 0.28521945,\n",
       "       0.28497167, 0.28472463, 0.28447831, 0.28423273, 0.28398787,\n",
       "       0.28374374, 0.28350034, 0.28325765, 0.28301569, 0.28277444,\n",
       "       0.2825339 , 0.28229408, 0.28205497, 0.28181657, 0.28157887,\n",
       "       0.28134188, 0.28110559, 0.28087   , 0.28063511, 0.28040092,\n",
       "       0.28016742, 0.27993461, 0.27970249, 0.27947106, 0.27924031,\n",
       "       0.27901025, 0.27878087, 0.27855217, 0.27832415, 0.2780968 ,\n",
       "       0.27787013, 0.27764412, 0.27741879, 0.27719413, 0.27697013,\n",
       "       0.27674679, 0.27652412, 0.27630211, 0.27608075, 0.27586005,\n",
       "       0.27564001, 0.27542062, 0.27520187, 0.27498378, 0.27476633,\n",
       "       0.27454953, 0.27433336, 0.27411784, 0.27390296, 0.27368871,\n",
       "       0.2734751 , 0.27326213, 0.27304978, 0.27283806, 0.27262697,\n",
       "       0.27241651, 0.27220666, 0.27199745, 0.27178885, 0.27158087,\n",
       "       0.2713735 , 0.27116675, 0.27096061, 0.27075509, 0.27055017,\n",
       "       0.27034586, 0.27014215, 0.26993905, 0.26973655, 0.26953465,\n",
       "       0.26933335, 0.26913264, 0.26893253, 0.26873302, 0.26853409,\n",
       "       0.26833576, 0.26813801, 0.26794084, 0.26774427, 0.26754827,\n",
       "       0.26735285, 0.26715802, 0.26696376, 0.26677008, 0.26657697,\n",
       "       0.26638443, 0.26619246, 0.26600107, 0.26581024, 0.26561997,\n",
       "       0.26543027, 0.26524113, 0.26505255, 0.26486453, 0.26467707,\n",
       "       0.26449016, 0.26430381, 0.26411801, 0.26393276, 0.26374806,\n",
       "       0.2635639 , 0.26338029, 0.26319723, 0.26301471, 0.26283273,\n",
       "       0.26265128, 0.26247038, 0.26229001, 0.26211018, 0.26193088,\n",
       "       0.26175211, 0.26157387, 0.26139616, 0.26121897, 0.26104231,\n",
       "       0.26086618, 0.26069056, 0.26051547, 0.26034089, 0.26016684,\n",
       "       0.25999329, 0.25982027, 0.25964775, 0.25947575, 0.25930425,\n",
       "       0.25913327, 0.25896279, 0.25879281, 0.25862334, 0.25845437,\n",
       "       0.25828591, 0.25811794, 0.25795047, 0.25778349, 0.25761701,\n",
       "       0.25745103, 0.25728553, 0.25712053, 0.25695601, 0.25679199,\n",
       "       0.25662844, 0.25646539, 0.25630281, 0.25614072, 0.25597911,\n",
       "       0.25581798, 0.25565732, 0.25549714, 0.25533744, 0.25517821,\n",
       "       0.25501945, 0.25486116, 0.25470334, 0.25454599, 0.2543891 ,\n",
       "       0.25423268, 0.25407672, 0.25392123, 0.25376619, 0.25361162,\n",
       "       0.2534575 , 0.25330384, 0.25315063, 0.25299788, 0.25284558,\n",
       "       0.25269374, 0.25254234, 0.25239139, 0.25224089, 0.25209083,\n",
       "       0.25194122, 0.25179206, 0.25164333, 0.25149505, 0.2513472 ,\n",
       "       0.25119979, 0.25105282, 0.25090629, 0.25076019, 0.25061452,\n",
       "       0.25046928, 0.25032448, 0.2501801 , 0.25003615, 0.24989263,\n",
       "       0.24974953, 0.24960686, 0.24946461, 0.24932278, 0.24918137,\n",
       "       0.24904038, 0.24889981, 0.24875966, 0.24861992, 0.24848059,\n",
       "       0.24834168, 0.24820318, 0.24806509, 0.24792741, 0.24779013,\n",
       "       0.24765327, 0.24751681, 0.24738075, 0.2472451 , 0.24710984,\n",
       "       0.24697499, 0.24684054, 0.24670649, 0.24657283, 0.24643957,\n",
       "       0.24630671, 0.24617424, 0.24604216, 0.24591047, 0.24577918,\n",
       "       0.24564827, 0.24551775, 0.24538762, 0.24525787, 0.24512851,\n",
       "       0.24499953, 0.24487093, 0.24474271, 0.24461488, 0.24448742,\n",
       "       0.24436034, 0.24423364, 0.24410731, 0.24398136, 0.24385578,\n",
       "       0.24373057, 0.24360573, 0.24348126, 0.24335716, 0.24323343,\n",
       "       0.24311007, 0.24298707, 0.24286444, 0.24274217, 0.24262026,\n",
       "       0.24249871, 0.24237753, 0.2422567 , 0.24213623, 0.24201612,\n",
       "       0.24189636, 0.24177696, 0.24165791, 0.24153921, 0.24142087,\n",
       "       0.24130288, 0.24118523, 0.24106794, 0.24095099, 0.24083439,\n",
       "       0.24071814, 0.24060223, 0.24048666, 0.24037143, 0.24025655,\n",
       "       0.24014201, 0.24002781, 0.23991394, 0.23980041, 0.23968722,\n",
       "       0.23957437, 0.23946185, 0.23934966, 0.2392378 , 0.23912628,\n",
       "       0.23901509, 0.23890422, 0.23879369, 0.23868348, 0.2385736 ,\n",
       "       0.23846404, 0.23835481, 0.2382459 , 0.23813732, 0.23802906])"
      ]
     },
     "execution_count": 80,
     "metadata": {},
     "output_type": "execute_result"
    }
   ],
   "source": [
    "custo"
   ]
  },
  {
   "cell_type": "markdown",
   "metadata": {},
   "source": [
    "<h3> PLOTANDO O CUSTO </h3>"
   ]
  },
  {
   "cell_type": "code",
   "execution_count": 81,
   "metadata": {},
   "outputs": [
    {
     "data": {
      "text/plain": [
       "Text(0.5,1,'MSE vs. Epoch')"
      ]
     },
     "execution_count": 81,
     "metadata": {},
     "output_type": "execute_result"
    },
    {
     "data": {
      "image/png": "[encoded data removed]",
      "text/plain": [
       "<matplotlib.figure.Figure at 0x7f5276f6e240>"
      ]
     },
     "metadata": {},
     "output_type": "display_data"
    }
   ],
   "source": [
    "fig, ax= plt.subplots()\n",
    "ax.plot(np.arange(epoch),custo,'r')\n",
    "ax.set_xlabel('Iterações')\n",
    "ax.set_ylabel('Custo')\n",
    "ax.set_title('MSE vs. Epoch')"
   ]
  },
  {
   "cell_type": "markdown",
   "metadata": {},
   "source": [
    "<h3> PLOTANDO A HIPÓTESE OTIMIZADA </h3>"
   ]
  },
  {
   "cell_type": "code",
   "execution_count": 82,
   "metadata": {},
   "outputs": [
    {
     "data": {
      "image/png": "[encoded data removed]",
      "text/plain": [
       "<matplotlib.figure.Figure at 0x7f5276fd4518>"
      ]
     },
     "metadata": {},
     "output_type": "display_data"
    }
   ],
   "source": [
    "plot_line(x,y,w0,w1)"
   ]
  },
  {
   "cell_type": "code",
   "execution_count": 83,
   "metadata": {},
   "outputs": [
    {
     "data": {
      "text/plain": [
       "1.8841287670370264"
      ]
     },
     "execution_count": 83,
     "metadata": {},
     "output_type": "execute_result"
    }
   ],
   "source": [
    "y_hat(1.5,w0,w1)"
   ]
  },
  {
   "cell_type": "code",
   "execution_count": 84,
   "metadata": {},
   "outputs": [
    {
     "name": "stdout",
     "output_type": "stream",
     "text": [
      "w0=1.4797891950670756,w1=0.2695597146466338\n"
     ]
    }
   ],
   "source": [
    "print(\"w0={},w1={}\".format(w0,w1))"
   ]
  },
  {
   "cell_type": "code",
   "execution_count": null,
   "metadata": {},
   "outputs": [],
   "source": []
  }
 ],
 "metadata": {
  "kernelspec": {
   "display_name": "Python 3",
   "language": "python",
   "name": "python3"
  },
  "language_info": {
   "codemirror_mode": {
    "name": "ipython",
    "version": 3
   },
   "file_extension": ".py",
   "mimetype": "text/x-python",
   "name": "python",
   "nbconvert_exporter": "python",
   "pygments_lexer": "ipython3",
   "version": "3.6.6"
  }
 },
 "nbformat": 4,
 "nbformat_minor": 2
}
